{
  "cells": [
    {
      "cell_type": "code",
      "execution_count": 2,
      "metadata": {
        "id": "iX9mQLjn35RR"
      },
      "outputs": [],
      "source": [
        "import pandas as pd\n",
        "import numpy as np\n",
        "import matplotlib.pyplot as plt\n",
        "from datetime import datetime\n",
        "from datetime import timedelta\n",
        "from pandas.plotting import register_matplotlib_converters\n",
        "from statsmodels.tsa.stattools import acf, pacf\n",
        "from statsmodels.tsa.arima.model import ARIMA\n",
        "register_matplotlib_converters()\n",
        "from time import time"
      ]
    },
    {
      "cell_type": "markdown",
      "metadata": {
        "id": "cQmsEZAH5CMF"
      },
      "source": [
        "# `Data Preproccesing`"
      ]
    },
    {
      "cell_type": "code",
      "execution_count": null,
      "metadata": {
        "id": "hLSZIXqS5BN6"
      },
      "outputs": [],
      "source": [
        "column_names= ['date','hour','open','high','low','close','volume']\n",
        "lines = pd.read_csv('eurusd-15m.csv',delimiter=';',names=column_names)\n",
        "\n",
        "print(lines)"
      ]
    },
    {
      "cell_type": "code",
      "source": [
        "lines['Time'] = lines['date'].astype(str) +' '+ lines['hour'].astype(str)\n",
        "lines.set_index('Time', inplace=True)\n",
        "lines"
      ],
      "metadata": {
        "id": "xxEpX3-FpLbs"
      },
      "execution_count": null,
      "outputs": []
    },
    {
      "cell_type": "code",
      "source": [
        "df = pd.DataFrame(lines)\n",
        "df.drop(['date','hour'],axis=1)"
      ],
      "metadata": {
        "id": "6YKcGF8VsnT1"
      },
      "execution_count": null,
      "outputs": []
    },
    {
      "cell_type": "code",
      "source": [
        "any_nan_values = df.isna().any().any()\n",
        "any_nan_values"
      ],
      "metadata": {
        "colab": {
          "base_uri": "https://localhost:8080/"
        },
        "id": "va8Lcq7NtwCT",
        "outputId": "5b62dc00-03de-47eb-e804-c78895e5fd2c"
      },
      "execution_count": 18,
      "outputs": [
        {
          "output_type": "execute_result",
          "data": {
            "text/plain": [
              "False"
            ]
          },
          "metadata": {},
          "execution_count": 18
        }
      ]
    }
  ],
  "metadata": {
    "colab": {
      "provenance": [],
      "authorship_tag": "ABX9TyOBOfUNdeF9FLUUrVmvoVM1"
    },
    "kernelspec": {
      "display_name": "Python 3",
      "name": "python3"
    },
    "language_info": {
      "name": "python"
    }
  },
  "nbformat": 4,
  "nbformat_minor": 0
}